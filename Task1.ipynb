{
 "cells": [
  {
   "cell_type": "code",
   "execution_count": 61,
   "metadata": {},
   "outputs": [
    {
     "name": "stdout",
     "output_type": "stream",
     "text": [
      "The autoreload extension is already loaded. To reload it, use:\n",
      "  %reload_ext autoreload\n"
     ]
    }
   ],
   "source": [
    "%load_ext autoreload\n",
    "%autoreload 2"
   ]
  },
  {
   "cell_type": "code",
   "execution_count": 62,
   "metadata": {},
   "outputs": [],
   "source": [
    "from pandas import read_csv\n",
    "from layers.fullyconnected import FC\n",
    "from losses.binarycrossentropy import BinaryCrossEntropy\n",
    "from losses.meansquarederror import MeanSquaredError\n",
    "from optimizers.adam import Adam\n",
    "from optimizers.gradientdescent import GD\n",
    "from activations import *\n",
    "from model import Model\n",
    "from layers.convolution2d import Conv2D"
   ]
  },
  {
   "cell_type": "code",
   "execution_count": 63,
   "metadata": {},
   "outputs": [
    {
     "name": "stdout",
     "output_type": "stream",
     "text": [
      "Mean:\n",
      "longitude            -6.580462e-15\n",
      "latitude              0.000000e+00\n",
      "housing_median_age   -1.738740e-16\n",
      "total_rooms          -9.195259e-17\n",
      "total_bedrooms       -7.690580e-17\n",
      "population            7.189021e-17\n",
      "households            1.337492e-17\n",
      "median_income        -3.811853e-16\n",
      "dtype: float64\n",
      "\n",
      "\n",
      "Standard Deviation:\n",
      "longitude             1.0\n",
      "latitude              1.0\n",
      "housing_median_age    1.0\n",
      "total_rooms           1.0\n",
      "total_bedrooms        1.0\n",
      "population            1.0\n",
      "households            1.0\n",
      "median_income         1.0\n",
      "dtype: float64\n"
     ]
    }
   ],
   "source": [
    "# Read the dataset\n",
    "training_data = read_csv(\"datasets/california_houses_price/california_housing_train.csv\")\n",
    "testing_data = read_csv(\"datasets/california_houses_price/california_housing_test.csv\")\n",
    "\n",
    "\n",
    "# Preprocess the dataset by removing the rows with missing values (NaN)\n",
    "training_data = training_data.dropna()\n",
    "testing_data = testing_data.dropna()\n",
    "\n",
    "# Split the dataset into features and labels\n",
    "training_labels = training_data.pop(\"median_house_value\")\n",
    "training_features = training_data\n",
    "\n",
    "testing_labels = testing_data.pop(\"median_house_value\")\n",
    "testing_features = testing_data\n",
    "\n",
    "# Normalize the training features\n",
    "training_features = (training_features - training_features.mean()) / training_features.std()\n",
    "print(f\"Mean:\\n{training_features.mean()}\")\n",
    "print(f\"\\n\\nStandard Deviation:\\n{training_features.std()}\")\n"
   ]
  },
  {
   "cell_type": "code",
   "execution_count": 70,
   "metadata": {},
   "outputs": [
    {
     "name": "stdout",
     "output_type": "stream",
     "text": [
      "Input shape is: (8, 128)\n",
      "injaaaaa (1, 16) (1, 128)\n",
      "injaaaaa (16, 8) (16, 128)\n",
      "True\n",
      "Umaadaaam\n",
      "Name : fc1 Grad : (16, 16), Param : (16, 8)\n"
     ]
    },
    {
     "ename": "ValueError",
     "evalue": "operands could not be broadcast together with shapes (16,8) (16,16) ",
     "output_type": "error",
     "traceback": [
      "\u001b[0;31m---------------------------------------------------------------------------\u001b[0m",
      "\u001b[0;31mValueError\u001b[0m                                Traceback (most recent call last)",
      "Cell \u001b[0;32mIn[70], line 16\u001b[0m\n\u001b[1;32m     13\u001b[0m model \u001b[39m=\u001b[39m Model(arch, loss, optimizer)\n\u001b[1;32m     15\u001b[0m \u001b[39m# Train the model\u001b[39;00m\n\u001b[0;32m---> 16\u001b[0m model\u001b[39m.\u001b[39;49mtrain(training_features\u001b[39m.\u001b[39;49mto_numpy()\u001b[39m.\u001b[39;49mT, training_labels\u001b[39m.\u001b[39;49mto_numpy()\u001b[39m.\u001b[39;49mT, epochs\u001b[39m=\u001b[39;49m\u001b[39m10\u001b[39;49m, batch_size\u001b[39m=\u001b[39;49m\u001b[39m128\u001b[39;49m, verbose\u001b[39m=\u001b[39;49m\u001b[39m1\u001b[39;49m)\n",
      "File \u001b[0;32m/mnt/c/Users/danes/Desktop/ArtificialNeuralNetworks-ComputationalIntelligence-AUT/model.py:248\u001b[0m, in \u001b[0;36mModel.train\u001b[0;34m(self, X, y, epochs, val, batch_size, shuffling, verbose, save_after)\u001b[0m\n\u001b[1;32m    245\u001b[0m \u001b[39mfor\u001b[39;00m b \u001b[39min\u001b[39;00m \u001b[39mrange\u001b[39m(m \u001b[39m/\u001b[39m\u001b[39m/\u001b[39m batch_size):\n\u001b[1;32m    246\u001b[0m     \u001b[39m# print(b)\u001b[39;00m\n\u001b[1;32m    247\u001b[0m     bx, by \u001b[39m=\u001b[39m \u001b[39mself\u001b[39m\u001b[39m.\u001b[39mbatch(X, y, batch_size, b, order)\n\u001b[0;32m--> 248\u001b[0m     cost \u001b[39m+\u001b[39m\u001b[39m=\u001b[39m \u001b[39mself\u001b[39;49m\u001b[39m.\u001b[39;49mone_epoch(bx, by, e)\n\u001b[1;32m    249\u001b[0m     \u001b[39m# print(cost)\u001b[39;00m\n\u001b[1;32m    250\u001b[0m train_cost\u001b[39m.\u001b[39mappend(cost)\n",
      "File \u001b[0;32m/mnt/c/Users/danes/Desktop/ArtificialNeuralNetworks-ComputationalIntelligence-AUT/model.py:145\u001b[0m, in \u001b[0;36mModel.one_epoch\u001b[0;34m(self, x, y, epoch)\u001b[0m\n\u001b[1;32m    143\u001b[0m \u001b[39m# print(\"DAL: \", dAL)\u001b[39;00m\n\u001b[1;32m    144\u001b[0m grads \u001b[39m=\u001b[39m \u001b[39mself\u001b[39m\u001b[39m.\u001b[39mbackward(dAL, tmp, x)\n\u001b[0;32m--> 145\u001b[0m \u001b[39mself\u001b[39;49m\u001b[39m.\u001b[39;49mupdate(grads, epoch)\n\u001b[1;32m    146\u001b[0m \u001b[39mreturn\u001b[39;00m loss\n",
      "File \u001b[0;32m/mnt/c/Users/danes/Desktop/ArtificialNeuralNetworks-ComputationalIntelligence-AUT/model.py:125\u001b[0m, in \u001b[0;36mModel.update\u001b[0;34m(self, grads, epoch)\u001b[0m\n\u001b[1;32m    123\u001b[0m \u001b[39mif\u001b[39;00m \u001b[39misinstance\u001b[39m(\u001b[39mself\u001b[39m\u001b[39m.\u001b[39mmodel[l][\u001b[39m\"\u001b[39m\u001b[39mlayer\u001b[39m\u001b[39m\"\u001b[39m], FC):\n\u001b[1;32m    124\u001b[0m     \u001b[39mprint\u001b[39m(\u001b[39m\"\u001b[39m\u001b[39mUmaadaaam\u001b[39m\u001b[39m\"\u001b[39m)\n\u001b[0;32m--> 125\u001b[0m     \u001b[39mself\u001b[39;49m\u001b[39m.\u001b[39;49mmodel[l][\u001b[39m\"\u001b[39;49m\u001b[39mlayer\u001b[39;49m\u001b[39m\"\u001b[39;49m]\u001b[39m.\u001b[39;49mupdate_parameters(\u001b[39mself\u001b[39;49m\u001b[39m.\u001b[39;49moptimizer,\n\u001b[1;32m    126\u001b[0m                                                         grads[l], epoch)\n",
      "File \u001b[0;32m/mnt/c/Users/danes/Desktop/ArtificialNeuralNetworks-ComputationalIntelligence-AUT/layers/fullyconnected.py:98\u001b[0m, in \u001b[0;36mFC.update_parameters\u001b[0;34m(self, optimizer, grads, epoch)\u001b[0m\n\u001b[1;32m     91\u001b[0m \u001b[39mdef\u001b[39;00m \u001b[39mupdate_parameters\u001b[39m(\u001b[39mself\u001b[39m, optimizer, grads, epoch):\n\u001b[1;32m     92\u001b[0m \u001b[39m    \u001b[39m\u001b[39m\"\"\"\u001b[39;00m\n\u001b[1;32m     93\u001b[0m \u001b[39m    Update the parameters of the layer.\u001b[39;00m\n\u001b[1;32m     94\u001b[0m \u001b[39m        args:\u001b[39;00m\n\u001b[1;32m     95\u001b[0m \u001b[39m            optimizer: optimizer object\u001b[39;00m\n\u001b[1;32m     96\u001b[0m \u001b[39m            grads: list of gradients for the weights and bias\u001b[39;00m\n\u001b[1;32m     97\u001b[0m \u001b[39m    \"\"\"\u001b[39;00m\n\u001b[0;32m---> 98\u001b[0m     \u001b[39mself\u001b[39m\u001b[39m.\u001b[39mparameters \u001b[39m=\u001b[39m optimizer\u001b[39m.\u001b[39;49mupdate(grads, \u001b[39mself\u001b[39;49m\u001b[39m.\u001b[39;49mname, epoch)\n",
      "File \u001b[0;32m/mnt/c/Users/danes/Desktop/ArtificialNeuralNetworks-ComputationalIntelligence-AUT/optimizers/gradientdescent.py:32\u001b[0m, in \u001b[0;36mGD.update\u001b[0;34m(self, grads, name, epoch)\u001b[0m\n\u001b[1;32m     30\u001b[0m \u001b[39mfor\u001b[39;00m i \u001b[39min\u001b[39;00m \u001b[39mrange\u001b[39m(\u001b[39mlen\u001b[39m(grads)):\n\u001b[1;32m     31\u001b[0m     \u001b[39mprint\u001b[39m(\u001b[39mf\u001b[39m\u001b[39m\"\u001b[39m\u001b[39mName : \u001b[39m\u001b[39m{\u001b[39;00mname\u001b[39m}\u001b[39;00m\u001b[39m Grad : \u001b[39m\u001b[39m{\u001b[39;00mgrads[i]\u001b[39m.\u001b[39mshape\u001b[39m}\u001b[39;00m\u001b[39m, Param : \u001b[39m\u001b[39m{\u001b[39;00mlayer\u001b[39m.\u001b[39mparameters[i]\u001b[39m.\u001b[39mshape\u001b[39m}\u001b[39;00m\u001b[39m\"\u001b[39m)\n\u001b[0;32m---> 32\u001b[0m     params\u001b[39m.\u001b[39mappend(layer\u001b[39m.\u001b[39;49mparameters[i] \u001b[39m-\u001b[39;49m \u001b[39mself\u001b[39;49m\u001b[39m.\u001b[39;49mlearning_rate \u001b[39m*\u001b[39;49m grads[i])\n\u001b[1;32m     34\u001b[0m \u001b[39mreturn\u001b[39;00m params\n",
      "\u001b[0;31mValueError\u001b[0m: operands could not be broadcast together with shapes (16,8) (16,16) "
     ]
    }
   ],
   "source": [
    "# Construct the model\n",
    "arch = dict()\n",
    "arch[\"fc1\"] = dict()\n",
    "arch[\"fc1\"][\"layer\"] = FC(8, 16, \"fc1\", initialize_method=\"random\")\n",
    "arch[\"fc1\"][\"activation\"] = ReLU()\n",
    "\n",
    "arch[\"fc2\"] = dict()\n",
    "arch[\"fc2\"][\"layer\"] = FC(16, 1, \"fc2\", initialize_method=\"random\")\n",
    "arch[\"fc2\"][\"activation\"] = ReLU()\n",
    "\n",
    "loss = MeanSquaredError()\n",
    "optimizer = GD(arch , 0.01)\n",
    "model = Model(arch, loss, optimizer)\n",
    "\n",
    "# Train the model\n",
    "model.train(training_features.to_numpy().T, training_labels.to_numpy().T, epochs=10, batch_size=128, verbose=1)\n",
    "# training_labels = training_labels.to_numpy()"
   ]
  },
  {
   "cell_type": "code",
   "execution_count": 25,
   "metadata": {},
   "outputs": [
    {
     "name": "stdout",
     "output_type": "stream",
     "text": [
      "True\n"
     ]
    }
   ],
   "source": [
    "print(isinstance(arch[\"fc1\"][\"layer\"], FC))"
   ]
  }
 ],
 "metadata": {
  "kernelspec": {
   "display_name": "CI",
   "language": "python",
   "name": "python3"
  },
  "language_info": {
   "codemirror_mode": {
    "name": "ipython",
    "version": 3
   },
   "file_extension": ".py",
   "mimetype": "text/x-python",
   "name": "python",
   "nbconvert_exporter": "python",
   "pygments_lexer": "ipython3",
   "version": "3.10.11"
  },
  "orig_nbformat": 4
 },
 "nbformat": 4,
 "nbformat_minor": 2
}
