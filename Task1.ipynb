{
 "cells": [
  {
   "cell_type": "code",
   "execution_count": 1,
   "metadata": {},
   "outputs": [],
   "source": [
    "%load_ext autoreload\n",
    "%autoreload 2"
   ]
  },
  {
   "cell_type": "code",
   "execution_count": 2,
   "metadata": {},
   "outputs": [],
   "source": [
    "from pandas import read_csv\n",
    "from layers.fullyconnected import FC\n",
    "from losses.binarycrossentropy import BinaryCrossEntropy\n",
    "from losses.meansquarederror import MeanSquaredError\n",
    "from optimizers.adam import Adam\n",
    "from optimizers.gradientdescent import GD\n",
    "from activations import *\n",
    "from model import Model"
   ]
  },
  {
   "cell_type": "code",
   "execution_count": 3,
   "metadata": {},
   "outputs": [
    {
     "name": "stdout",
     "output_type": "stream",
     "text": [
      "Mean:\n",
      "longitude            -6.580462e-15\n",
      "latitude              0.000000e+00\n",
      "housing_median_age   -1.738740e-16\n",
      "total_rooms          -9.195259e-17\n",
      "total_bedrooms       -7.690580e-17\n",
      "population            7.189021e-17\n",
      "households            1.337492e-17\n",
      "median_income        -3.811853e-16\n",
      "dtype: float64\n",
      "\n",
      "\n",
      "Standard Deviation:\n",
      "longitude             1.0\n",
      "latitude              1.0\n",
      "housing_median_age    1.0\n",
      "total_rooms           1.0\n",
      "total_bedrooms        1.0\n",
      "population            1.0\n",
      "households            1.0\n",
      "median_income         1.0\n",
      "dtype: float64\n"
     ]
    }
   ],
   "source": [
    "# Read the dataset\n",
    "training_data = read_csv(\"datasets/california_houses_price/california_housing_train.csv\")\n",
    "testing_data = read_csv(\"datasets/california_houses_price/california_housing_test.csv\")\n",
    "\n",
    "\n",
    "# Preprocess the dataset by removing the rows with missing values (NaN)\n",
    "training_data = training_data.dropna()\n",
    "testing_data = testing_data.dropna()\n",
    "\n",
    "# Split the dataset into features and labels\n",
    "training_labels = training_data.pop(\"median_house_value\")\n",
    "training_features = training_data\n",
    "\n",
    "testing_labels = testing_data.pop(\"median_house_value\")\n",
    "testing_features = testing_data\n",
    "\n",
    "# Normalize the training features\n",
    "training_features = (training_features - training_features.mean()) / training_features.std()\n",
    "print(f\"Mean:\\n{training_features.mean()}\")\n",
    "print(f\"\\n\\nStandard Deviation:\\n{training_features.std()}\")\n"
   ]
  },
  {
   "cell_type": "code",
   "execution_count": 4,
   "metadata": {},
   "outputs": [
    {
     "name": "stdout",
     "output_type": "stream",
     "text": [
      "(8, 17000)\n",
      "1\n",
      "(16, 8) (8, 3) (16, 1)\n",
      "(1, 16) (16, 3) (1, 1)\n",
      "DAL:  [[-44599.99950728 -53399.99929506 -57133.33333333]]\n",
      "(1, 3) (16, 3)\n"
     ]
    },
    {
     "ename": "IndexError",
     "evalue": "boolean index did not match indexed array along dimension 0; dimension is 1 but corresponding boolean dimension is 16",
     "output_type": "error",
     "traceback": [
      "\u001b[0;31m---------------------------------------------------------------------------\u001b[0m",
      "\u001b[0;31mIndexError\u001b[0m                                Traceback (most recent call last)",
      "Cell \u001b[0;32mIn[4], line 16\u001b[0m\n\u001b[1;32m     13\u001b[0m model \u001b[39m=\u001b[39m Model(arch, loss, optimizer)\n\u001b[1;32m     15\u001b[0m \u001b[39m# Train the model\u001b[39;00m\n\u001b[0;32m---> 16\u001b[0m model\u001b[39m.\u001b[39;49mtrain(training_features\u001b[39m.\u001b[39;49mto_numpy()\u001b[39m.\u001b[39;49mT, training_labels\u001b[39m.\u001b[39;49mto_numpy()\u001b[39m.\u001b[39;49mT, epochs\u001b[39m=\u001b[39;49m\u001b[39m10\u001b[39;49m, batch_size\u001b[39m=\u001b[39;49m\u001b[39m3\u001b[39;49m, verbose\u001b[39m=\u001b[39;49m\u001b[39m1\u001b[39;49m)\n\u001b[1;32m     17\u001b[0m \u001b[39m# training_labels = training_labels.to_numpy()\u001b[39;00m\n",
      "File \u001b[0;32m/mnt/c/Users/danes/Desktop/ArtificialNeuralNetworks-ComputationalIntelligence-AUT/model.py:234\u001b[0m, in \u001b[0;36mModel.train\u001b[0;34m(self, X, y, epochs, val, batch_size, shuffling, verbose, save_after)\u001b[0m\n\u001b[1;32m    232\u001b[0m     \u001b[39mprint\u001b[39m(i\u001b[39m+\u001b[39m\u001b[39m1\u001b[39m)\n\u001b[1;32m    233\u001b[0m     bx, by \u001b[39m=\u001b[39m \u001b[39mself\u001b[39m\u001b[39m.\u001b[39mbatch(X, y, batch_size, b, order)\n\u001b[0;32m--> 234\u001b[0m     cost \u001b[39m+\u001b[39m\u001b[39m=\u001b[39m \u001b[39mself\u001b[39;49m\u001b[39m.\u001b[39;49mone_epoch(bx, by)\n\u001b[1;32m    235\u001b[0m train_cost\u001b[39m.\u001b[39mappend(cost)\n\u001b[1;32m    236\u001b[0m \u001b[39mif\u001b[39;00m val \u001b[39mis\u001b[39;00m \u001b[39mnot\u001b[39;00m \u001b[39mNone\u001b[39;00m:\n",
      "File \u001b[0;32m/mnt/c/Users/danes/Desktop/ArtificialNeuralNetworks-ComputationalIntelligence-AUT/model.py:129\u001b[0m, in \u001b[0;36mModel.one_epoch\u001b[0;34m(self, x, y)\u001b[0m\n\u001b[1;32m    127\u001b[0m dAL \u001b[39m=\u001b[39m \u001b[39mself\u001b[39m\u001b[39m.\u001b[39mcriterion\u001b[39m.\u001b[39mbackward(AL, y)\n\u001b[1;32m    128\u001b[0m \u001b[39mprint\u001b[39m(\u001b[39m\"\u001b[39m\u001b[39mDAL: \u001b[39m\u001b[39m\"\u001b[39m, dAL)\n\u001b[0;32m--> 129\u001b[0m grads \u001b[39m=\u001b[39m \u001b[39mself\u001b[39;49m\u001b[39m.\u001b[39;49mbackward(dAL, tmp, x)\n\u001b[1;32m    130\u001b[0m \u001b[39mself\u001b[39m\u001b[39m.\u001b[39mupdate(grads)\n\u001b[1;32m    131\u001b[0m \u001b[39mreturn\u001b[39;00m loss\n",
      "File \u001b[0;32m/mnt/c/Users/danes/Desktop/ArtificialNeuralNetworks-ComputationalIntelligence-AUT/model.py:96\u001b[0m, in \u001b[0;36mModel.backward\u001b[0;34m(self, dAL, tmp, x)\u001b[0m\n\u001b[1;32m     94\u001b[0m \u001b[39melse\u001b[39;00m:\n\u001b[1;32m     95\u001b[0m     Z, A \u001b[39m=\u001b[39m tmp[l \u001b[39m-\u001b[39m \u001b[39m1\u001b[39m], x\n\u001b[0;32m---> 96\u001b[0m dZ \u001b[39m=\u001b[39m \u001b[39mself\u001b[39;49m\u001b[39m.\u001b[39;49mmodel[\u001b[39mself\u001b[39;49m\u001b[39m.\u001b[39;49mlayers_names[l \u001b[39m-\u001b[39;49m \u001b[39m1\u001b[39;49m]][\u001b[39m\"\u001b[39;49m\u001b[39mactivation\u001b[39;49m\u001b[39m\"\u001b[39;49m]\u001b[39m.\u001b[39;49mbackward(dA, Z)\n\u001b[1;32m     97\u001b[0m dA, grad \u001b[39m=\u001b[39m \u001b[39mself\u001b[39m\u001b[39m.\u001b[39mmodel[\u001b[39mself\u001b[39m\u001b[39m.\u001b[39mlayers_names[l \u001b[39m-\u001b[39m \u001b[39m1\u001b[39m]][\u001b[39m\"\u001b[39m\u001b[39mlayer\u001b[39m\u001b[39m\"\u001b[39m]\u001b[39m.\u001b[39mbackward(A, dZ)\n\u001b[1;32m     98\u001b[0m grads[\u001b[39mself\u001b[39m\u001b[39m.\u001b[39mlayers_names[l \u001b[39m-\u001b[39m \u001b[39m1\u001b[39m]] \u001b[39m=\u001b[39m grad\n",
      "File \u001b[0;32m/mnt/c/Users/danes/Desktop/ArtificialNeuralNetworks-ComputationalIntelligence-AUT/activations.py:90\u001b[0m, in \u001b[0;36mReLU.backward\u001b[0;34m(self, dA, Z)\u001b[0m\n\u001b[1;32m     88\u001b[0m dZ \u001b[39m=\u001b[39m np\u001b[39m.\u001b[39marray(dA, copy\u001b[39m=\u001b[39m\u001b[39mTrue\u001b[39;00m)\n\u001b[1;32m     89\u001b[0m \u001b[39mprint\u001b[39m(dA\u001b[39m.\u001b[39mshape, Z\u001b[39m.\u001b[39mshape)\n\u001b[0;32m---> 90\u001b[0m dZ[Z \u001b[39m<\u001b[39;49m\u001b[39m=\u001b[39;49m \u001b[39m0\u001b[39;49m] \u001b[39m=\u001b[39m \u001b[39m0\u001b[39m\n\u001b[1;32m     93\u001b[0m \u001b[39mreturn\u001b[39;00m dZ\n",
      "\u001b[0;31mIndexError\u001b[0m: boolean index did not match indexed array along dimension 0; dimension is 1 but corresponding boolean dimension is 16"
     ]
    }
   ],
   "source": [
    "# Construct the model\n",
    "arch = dict()\n",
    "arch[\"fc1\"] = dict()\n",
    "arch[\"fc1\"][\"layer\"] = FC(8, 16, \"fc1\", initialize_method=\"random\")\n",
    "arch[\"fc1\"][\"activation\"] = ReLU()\n",
    "\n",
    "arch[\"fc2\"] = dict()\n",
    "arch[\"fc2\"][\"layer\"] = FC(16, 1, \"fc2\", initialize_method=\"random\")\n",
    "arch[\"fc2\"][\"activation\"] = ReLU()\n",
    "\n",
    "loss = MeanSquaredError()\n",
    "optimizer = Adam(arch)\n",
    "model = Model(arch, loss, optimizer)\n",
    "\n",
    "# Train the model\n",
    "model.train(training_features.to_numpy().T, training_labels.to_numpy().T, epochs=10, batch_size=3, verbose=1)\n",
    "# training_labels = training_labels.to_numpy()"
   ]
  },
  {
   "cell_type": "code",
   "execution_count": 9,
   "metadata": {},
   "outputs": [
    {
     "name": "stdout",
     "output_type": "stream",
     "text": [
      "9\n",
      "8\n",
      "7\n",
      "6\n",
      "5\n",
      "4\n",
      "3\n",
      "2\n",
      "1\n",
      "0\n"
     ]
    }
   ],
   "source": [
    "from tqdm import tqdm\n",
    "x = 0\n",
    "for e in range(10,0,-1):\n",
    "    print(e-1)"
   ]
  }
 ],
 "metadata": {
  "kernelspec": {
   "display_name": "CI",
   "language": "python",
   "name": "python3"
  },
  "language_info": {
   "codemirror_mode": {
    "name": "ipython",
    "version": 3
   },
   "file_extension": ".py",
   "mimetype": "text/x-python",
   "name": "python",
   "nbconvert_exporter": "python",
   "pygments_lexer": "ipython3",
   "version": "3.10.11"
  },
  "orig_nbformat": 4
 },
 "nbformat": 4,
 "nbformat_minor": 2
}
